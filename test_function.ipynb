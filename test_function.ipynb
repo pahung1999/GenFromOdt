{
 "cells": [
  {
   "cell_type": "code",
   "execution_count": 17,
   "metadata": {},
   "outputs": [],
   "source": [
    "import json\n",
    "import numpy as np"
   ]
  },
  {
   "cell_type": "markdown",
   "metadata": {},
   "source": [
    "#### Create key_list"
   ]
  },
  {
   "cell_type": "code",
   "execution_count": 63,
   "metadata": {},
   "outputs": [],
   "source": [
    "KEY_DICT = {\n",
    "        'sale_contract': {\"replace_key\": [\"contract_no\", \n",
    "                                        \"contract_date\", \n",
    "                                        \"seller_company\", \n",
    "                                        \"seller_address\", \n",
    "                                        \"buyer_company\",\n",
    "                                        \"specifications\",\n",
    "                                        \"quantity\",\n",
    "                                        \"unit_price\",\n",
    "                                        \"total_value\",\n",
    "                                        \"time_of_shipment\",],\n",
    "                        \"label\": [\"contract_no\", \n",
    "                                        \"contract_date\", \n",
    "                                        \"seller_company\", \n",
    "                                        \"seller_address\", \n",
    "                                        \"buyer_company\",\n",
    "                                        \"quantity\",\n",
    "                                        \"unit_price\",\n",
    "                                        \"total_value\",\n",
    "                                        \"time_of_shipment\",]\n",
    "                         } ,\n",
    "        'bill_of_lading': {\"replace_key\": [\"bill_id\", \n",
    "                                        \"company1.1\", \"company1.2\", \"address1\", \n",
    "                                        \"company2\", \"address2\",\n",
    "                                        \"code1\", \"code2\", \"code3\",\n",
    "                                        \"place_of_receipt\", \"place_of_delivery\",\n",
    "                                        \"ocean_vessel\", \"voyage_no\", \"flag\",\n",
    "                                        \"port_of_loading\", \"port_of_discharge\",\n",
    "                                        \"con_no1\", \"con_no2\", \"con_no3\", \"con_no4\", \"con_no5\",\n",
    "                                        \"bale_quantity\", \"con_num1\", \"con_num2\", \"con_num3\", \"con_num4\", \"con_num5\",\n",
    "                                        \"con_mark1\", \"con_mark2\", \"con_mark3\", \"con_mark4\", \"con_mark5\",\n",
    "                                        \"gross_weight\", \"measurement\", \"con_quantity\", \"text_con_quantity\", \n",
    "                                        \"country1\", \"tel1\", \"fax1\", \"name_contact1\", \"ein_tax1\",\n",
    "                                        \"country2\", \"tel2\", \"fax2\", \"name_contact2\", \"gmail2\",\n",
    "                                        \"freight_prepaid_at\", \"place_of_issue\", \"date\"\n",
    "                                        ],\n",
    "                        \"label\": [\"bill_id\", \n",
    "                                        \"company1\", \"address1\", \n",
    "                                        \"company2\", \"address2\",\n",
    "                                        \"place_of_receipt\", \"place_of_delivery\",\n",
    "                                        \"ocean_vessel\", \"voyage_no\", \"flag\",\n",
    "                                        \"port_of_loading\", \"port_of_discharge\",\n",
    "                                        \"container_no\",  \"container_num\",\"container_mark\",\n",
    "                                        \"gross_weight\", \"measurement\", \"container_quantity\", \"bale_quantity\",\n",
    "                                        \"freight_prepaid_at\", \"place_of_issue\", \"date\"\n",
    "                                        ],\n",
    "                          } ,\n",
    "        'commercial_invoice':  {\"replace_key\": [\"seller_company\", \"seller_address\", \"seller_tel\", \"seller_fax\",\n",
    "                                                \"buyer_company\", \"buyer_address\",\n",
    "                                                \"invoice_id\", \"invoice_date\",\n",
    "                                                \"product\", \"quantity\", \"unit_price\", \"amount\",\n",
    "                                                \"contract_no\",\n",
    "                                                \"loading_port\", \"discharge_port\",\n",
    "                                                \"sailing_date\"],\n",
    "                                \"label\": [\"seller_company\", \"seller_address\", \"seller_tel\", \"seller_fax\",\n",
    "                                                \"buyer_company\", \"buyer_address\",\n",
    "                                                \"invoice_id\", \"invoice_date\",\n",
    "                                                \"product\", \"quantity\", \"unit_price\", \"amount\",],\n",
    "                                },\n",
    "        'packing_list':  {\"replace_key\": [\"seller_company\", \"seller_address\", \"seller_tel\", \"seller_fax\",\n",
    "                                        \"buyer_company\", \"buyer_address\", \"buyer_tel\", \"buyer_fax\",\n",
    "                                        \"invoice_id\", \"invoice_date\", \"product\",\n",
    "                                        \"container_num1\", \"container_num2\", \"container_num3\", \"container_num4\", \"container_num5\", \"container_num6\", \"container_num7\", \"container_num8\", \"container_num9\",\n",
    "                                        \"g_weight1\", \"g_weight2\", \"g_weight3\", \"g_weight4\", \"g_weight5\", \"g_weight6\", \"g_weight7\", \"g_weight8\", \"g_weight9\",\n",
    "                                        \"n_weight1\", \"n_weight2\", \"n_weight3\", \"n_weight4\", \"n_weight5\", \"n_weight6\", \"n_weight7\", \"n_weight8\", \"n_weight9\",\n",
    "                                        \"bale1\", \"bale2\", \"bale3\", \"bale4\", \"bale5\", \"bale6\", \"bale7\", \"bale8\", \"bale9\",\n",
    "                                        \"contract_no\",\n",
    "                                        \"total_g\", \"total_n\", \"total_bale\", \"container_quantity\"],\n",
    "                                \"label\": [\"seller_company\", \"seller_address\", \"seller_tel\", \"seller_fax\",\n",
    "                                        \"buyer_company\", \"buyer_address\", \"buyer_tel\", \"buyer_fax\",\n",
    "                                        \"invoice_id\", \"invoice_date\",\n",
    "                                        \"product\", \"container_num\", \"g_weight\", \"n_weight\", \"bale\", \"contract_no\",\n",
    "                                        \"total_g\", \"total_n\", \"total_bale\", \"container_quantity\"],\n",
    "                                } ,\n",
    "        }\n",
    "\n",
    "with open(\"/home/phung/AnhHung/data_gen/GenFromOdt/key_dict2.json\", \"w\", encoding=\"utf-8\") as f:\n",
    "    json.dump(KEY_DICT, f, ensure_ascii=False, indent=\"\\t\")\n"
   ]
  },
  {
   "cell_type": "code",
   "execution_count": null,
   "metadata": {},
   "outputs": [],
   "source": [
    "with open(\"./key_dict.json\", \"r\", encoding=\"utf-8\") as f:\n",
    "    data=json.load(f)\n",
    "data"
   ]
  },
  {
   "cell_type": "code",
   "execution_count": null,
   "metadata": {},
   "outputs": [],
   "source": [
    "with open(\"./key_dict2.json\", \"r\", encoding=\"utf-8\") as f:\n",
    "    data=json.load(f)\n",
    "data"
   ]
  },
  {
   "cell_type": "markdown",
   "metadata": {},
   "source": [
    "#### Load yml"
   ]
  },
  {
   "cell_type": "code",
   "execution_count": 60,
   "metadata": {},
   "outputs": [],
   "source": [
    "import yaml\n",
    "\n",
    "def load_yaml(file_path):\n",
    "    with open(file_path, 'r') as file:\n",
    "        data = yaml.safe_load(file)\n",
    "    return data\n",
    "\n",
    "# Ví dụ sử dụng\n",
    "file_path = './config/kie.yml'  # Đường dẫn đến tệp YAML\n",
    "data_dict = load_yaml(file_path)\n",
    "\n"
   ]
  },
  {
   "cell_type": "code",
   "execution_count": 62,
   "metadata": {},
   "outputs": [
    {
     "data": {
      "text/plain": [
       "True"
      ]
     },
     "execution_count": 62,
     "metadata": {},
     "output_type": "execute_result"
    }
   ],
   "source": [
    "data_dict['label_list'] is None"
   ]
  },
  {
   "cell_type": "markdown",
   "metadata": {},
   "source": [
    "#### Gendata"
   ]
  },
  {
   "cell_type": "code",
   "execution_count": 20,
   "metadata": {},
   "outputs": [
    {
     "data": {
      "text/plain": [
       "'P39C'"
      ]
     },
     "execution_count": 20,
     "metadata": {},
     "output_type": "execute_result"
    }
   ],
   "source": [
    "import random\n",
    "def generate_code_string(code_temp):\n",
    "    letters = 'ABCDEFGHIJKLMNOPQRSTUVWXYZ'\n",
    "    numbers = '0123456789'\n",
    "\n",
    "    string_value =[]\n",
    "    for char in code_temp:\n",
    "        if char == \"T\":\n",
    "            string_value.append(random.choice(letters))\n",
    "        elif char == \"N\":\n",
    "            string_value.append(random.choice(numbers))\n",
    "        else:\n",
    "            string_value.append(char)\n",
    "    code_string = ''.join(string_value)\n",
    "    return code_string\n",
    "\n",
    "generate_code_string(\"TNNT\")"
   ]
  },
  {
   "cell_type": "code",
   "execution_count": 391,
   "metadata": {},
   "outputs": [],
   "source": [
    "from faker import Faker\n",
    "import copy\n",
    "fake = Faker()\n"
   ]
  },
  {
   "cell_type": "code",
   "execution_count": 530,
   "metadata": {},
   "outputs": [
    {
     "data": {
      "text/plain": [
       "int"
      ]
     },
     "execution_count": 530,
     "metadata": {},
     "output_type": "execute_result"
    }
   ],
   "source": [
    "type(round(random.randint(1,5), 1))"
   ]
  },
  {
   "cell_type": "code",
   "execution_count": 527,
   "metadata": {},
   "outputs": [
    {
     "data": {
      "text/plain": [
       "'126 Randolph Path, Cruzview, United States Virgin Islands'"
      ]
     },
     "execution_count": 527,
     "metadata": {},
     "output_type": "execute_result"
    }
   ],
   "source": [
    "fake.street_address() + \", \" + fake.city() + \", \" + fake.country()"
   ]
  },
  {
   "cell_type": "code",
   "execution_count": 241,
   "metadata": {},
   "outputs": [
    {
     "name": "stdout",
     "output_type": "stream",
     "text": [
      "226 Anita Wells Suite 355 Bishopport, CA 77896\n"
     ]
    }
   ],
   "source": [
    "def gen_add_info(add_temp, max_len=20, upper=True):\n",
    "    fake = Faker()\n",
    "    new_add = add_temp\n",
    "    while new_add == add_temp or len(new_add) > max_len:\n",
    "        new_add = add_temp\n",
    "        if \"(address)\" in add_temp:\n",
    "            if upper:\n",
    "                new_add = new_add.replace(\"(address)\", fake.address().upper().replace(\"\\n\",\" \"))\n",
    "            else:\n",
    "                new_add = new_add.replace(\"(address)\", fake.address().replace(\"\\n\",\" \"))\n",
    "        if \"(country)\" in add_temp:\n",
    "            if upper:\n",
    "                new_add = new_add.replace(\"(country)\", fake.country().upper())\n",
    "            else:\n",
    "                new_add = new_add.replace(\"(country)\", fake.country())\n",
    "        if \"(city)\" in add_temp:\n",
    "            if upper:\n",
    "                new_add = new_add.replace(\"(city)\", fake.city().upper())\n",
    "            else:\n",
    "                new_add = new_add.replace(\"(city)\", fake.city())\n",
    "        if \"(company)\" in add_temp:\n",
    "            if upper:\n",
    "                new_add = new_add.replace(\"(company)\", fake.company().upper())\n",
    "            else:\n",
    "                new_add = new_add.replace(\"(company)\", fake.company())\n",
    "        if \"(name)\" in add_temp:\n",
    "            if upper:\n",
    "                new_add = new_add.replace(\"(name)\", fake.name().upper())\n",
    "            else:\n",
    "                new_add = new_add.replace(\"(name)\", fake.name())\n",
    "        if \"(email)\" in add_temp:\n",
    "            if upper:\n",
    "                new_add = new_add.replace(\"(email)\", fake.email().upper())\n",
    "            else:\n",
    "                new_add = new_add.replace(\"(email)\", fake.email())\n",
    "    return new_add\n",
    "print(gen_add_info(\"(address)\", max_len = 70, upper = False))"
   ]
  },
  {
   "cell_type": "code",
   "execution_count": 248,
   "metadata": {},
   "outputs": [
    {
     "data": {
      "text/plain": [
       "array(['a', 'AAA', 'AAAS', ..., 'Zulu', 'Zurich', 'zygote'], dtype='<U22')"
      ]
     },
     "execution_count": 248,
     "metadata": {},
     "output_type": "execute_result"
    }
   ],
   "source": [
    "words = np.loadtxt(\"../SynthText/dataset-generator/words.txt\", dtype=np.dtype(str), delimiter=\"\\n\")\n",
    "with open(\"../SynthText/dataset-generator/words.txt\", 'r') as file:\n",
    "    words = np.array(file.read().splitlines(), dtype=np.dtype(str))\n",
    "words"
   ]
  },
  {
   "cell_type": "code",
   "execution_count": null,
   "metadata": {},
   "outputs": [],
   "source": []
  },
  {
   "cell_type": "code",
   "execution_count": 207,
   "metadata": {},
   "outputs": [
    {
     "name": "stdout",
     "output_type": "stream",
     "text": [
      "<class 'str'>\n"
     ]
    }
   ],
   "source": [
    "import inflect\n",
    "\n",
    "def convert_number_to_text(number):\n",
    "    p = inflect.engine()\n",
    "    text = p.number_to_words(number).upper()\n",
    "    return text\n",
    "\n",
    "# Example usage\n",
    "number = 22\n",
    "text = convert_number_to_text(number)\n",
    "print(type(text))\n"
   ]
  },
  {
   "cell_type": "code",
   "execution_count": 186,
   "metadata": {},
   "outputs": [
    {
     "data": {
      "text/plain": [
       "'455,306.000'"
      ]
     },
     "execution_count": 186,
     "metadata": {},
     "output_type": "execute_result"
    }
   ],
   "source": []
  },
  {
   "cell_type": "code",
   "execution_count": 335,
   "metadata": {},
   "outputs": [
    {
     "data": {
      "text/plain": [
       "'344,871.00'"
      ]
     },
     "execution_count": 335,
     "metadata": {},
     "output_type": "execute_result"
    }
   ],
   "source": [
    "def multiply_strings(x, y):\n",
    "    # Convert strings to numerical values\n",
    "    x_value = float(x.replace(',', ''))\n",
    "    y_value = float(y.replace(',', ''))\n",
    "    \n",
    "    # Perform multiplication\n",
    "    result = x_value * y_value\n",
    "    \n",
    "    # Format the result back into string format\n",
    "    result_string = \"{:,.2f}\".format(result)\n",
    "    \n",
    "    return result_string\n",
    "\n",
    "multiply_strings(\"{:,.3f}\".format(random.randint(1, 1000)), \"{:,.2f}\".format(random.randint(1, 500)))"
   ]
  },
  {
   "cell_type": "code",
   "execution_count": 303,
   "metadata": {},
   "outputs": [
    {
     "data": {
      "text/plain": [
       "'appear address tell treat return I'"
      ]
     },
     "execution_count": 303,
     "metadata": {},
     "output_type": "execute_result"
    }
   ],
   "source": [
    "def generate_random_words(min_len = 5, max_len = 50):\n",
    "    fake = Faker()\n",
    "    words_list = [fake.word() for i in range(random.randint(1, 100))]\n",
    "    words = \" \".join(words_list)\n",
    "    while len(words) < min_len or len(words) > max_len:\n",
    "        words_list = [fake.word() for i in range(random.randint(1, 100))]\n",
    "        words = \" \".join(words_list)\n",
    "    return words\n",
    "generate_random_words(min_len = 5, max_len = 50)"
   ]
  },
  {
   "cell_type": "code",
   "execution_count": 390,
   "metadata": {},
   "outputs": [
    {
     "data": {
      "text/plain": [
       "'164.580'"
      ]
     },
     "execution_count": 390,
     "metadata": {},
     "output_type": "execute_result"
    }
   ],
   "source": [
    "x = round(random.uniform(1, 500), 3)\n",
    "\"{:,.3f}\".format(x)"
   ]
  },
  {
   "cell_type": "code",
   "execution_count": 389,
   "metadata": {},
   "outputs": [
    {
     "data": {
      "text/plain": [
       "'351.519'"
      ]
     },
     "execution_count": 389,
     "metadata": {},
     "output_type": "execute_result"
    }
   ],
   "source": []
  },
  {
   "cell_type": "code",
   "execution_count": null,
   "metadata": {},
   "outputs": [],
   "source": []
  },
  {
   "cell_type": "markdown",
   "metadata": {},
   "source": []
  },
  {
   "cell_type": "markdown",
   "metadata": {},
   "source": []
  }
 ],
 "metadata": {
  "kernelspec": {
   "display_name": "Python 3.9.10 64-bit",
   "language": "python",
   "name": "python3"
  },
  "language_info": {
   "codemirror_mode": {
    "name": "ipython",
    "version": 3
   },
   "file_extension": ".py",
   "mimetype": "text/x-python",
   "name": "python",
   "nbconvert_exporter": "python",
   "pygments_lexer": "ipython3",
   "version": "3.9.10"
  },
  "orig_nbformat": 4,
  "vscode": {
   "interpreter": {
    "hash": "397704579725e15f5c7cb49fe5f0341eb7531c82d19f2c29d197e8b64ab5776b"
   }
  }
 },
 "nbformat": 4,
 "nbformat_minor": 2
}
